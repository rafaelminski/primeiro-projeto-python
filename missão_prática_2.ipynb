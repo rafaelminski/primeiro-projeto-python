{
  "nbformat": 4,
  "nbformat_minor": 0,
  "metadata": {
    "colab": {
      "name": "missão_prática_2.ipynb",
      "provenance": [],
      "collapsed_sections": [],
      "authorship_tag": "ABX9TyPpsa4H9jMA/AG4xR7ucjLf",
      "include_colab_link": true
    },
    "kernelspec": {
      "name": "python3",
      "display_name": "Python 3"
    },
    "language_info": {
      "name": "python"
    }
  },
  "cells": [
    {
      "cell_type": "markdown",
      "metadata": {
        "id": "view-in-github",
        "colab_type": "text"
      },
      "source": [
        "<a href=\"https://colab.research.google.com/github/rafaelminski/primeiro-projeto-python/blob/main/miss%C3%A3o_pr%C3%A1tica_2.ipynb\" target=\"_parent\"><img src=\"https://colab.research.google.com/assets/colab-badge.svg\" alt=\"Open In Colab\"/></a>"
      ]
    },
    {
      "cell_type": "code",
      "execution_count": null,
      "metadata": {
        "colab": {
          "base_uri": "https://localhost:8080/"
        },
        "id": "_9qHaflNoJHx",
        "outputId": "bad2d17b-2183-43ef-fe4b-6e493bf7fd63"
      },
      "outputs": [
        {
          "output_type": "stream",
          "name": "stdout",
          "text": [
            "Digite um número:50\n",
            "O número em binário é: 110010\n"
          ]
        }
      ],
      "source": [
        "def decimal_para_binario(decimal):\n",
        "    binario = ''    \n",
        "    while decimal > 0:\n",
        "        binario+= str(decimal%2)\n",
        "        decimal//= 2\n",
        "    return binario[::-1]    \n",
        "try:\n",
        "  if __name__ == '__main__':\n",
        "      num = int(input(\"Digite um número:\"))\n",
        "      print(\"O número em binário é: \"+decimal_para_binario(num))\n",
        "except:\n",
        "  print(\"Entre com o valor numérico e não letras\")"
      ]
    },
    {
      "cell_type": "code",
      "source": [
        "from datetime import datetime\n",
        "odds = [ 1, 3, 5, 7, 9, 11, 13, 15, 17, 19, 21, 23, 25, 27, 29, 31, 33, 35, 37, 39, 41, 43, 45, 47, 49, 51, 53, 55, 57, 59 ]\n",
        "right_this_minute = datetime.today().minute\n",
        "if right_this_minute in odds :\n",
        "  print(\"this minute seems a little odd.\")\n",
        "else:\n",
        "  print(\"not an odd minute.\")  "
      ],
      "metadata": {
        "colab": {
          "base_uri": "https://localhost:8080/"
        },
        "id": "Bu6r-ph-fOBr",
        "outputId": "773f282e-36f6-4364-f6ba-41410024cafb"
      },
      "execution_count": null,
      "outputs": [
        {
          "output_type": "stream",
          "name": "stdout",
          "text": [
            "this minute seems a little odd.\n"
          ]
        }
      ]
    }
  ]
}